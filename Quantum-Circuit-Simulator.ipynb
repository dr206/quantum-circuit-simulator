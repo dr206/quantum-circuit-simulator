{
 "cells": [
  {
   "cell_type": "markdown",
   "metadata": {},
   "source": [
    "## Requirements\n",
    "It is expected that simulator can perform following:\n",
    "\n",
    "- initialize state\n",
    "- read program, and for each gate:\n",
    "    - calculate matrix operator\n",
    "    - apply operator (modify state)\n",
    "\n",
    "- perform multi-shot measurement of all qubits using weighted random technique\n",
    "\n",
    "It is up to you how you will organize code, but this is our suggestion:\n",
    "\n",
    "### Input format (quantum program)\n",
    "\n",
    "It is enough if simulator takes program in following format:\n",
    "\n",
    "```\n",
    "[\n",
    "  { \\\"unitary\\\": [[0.70710678, 0.70710678], [0.70710678, -0.70710678]], \\\"target\\\": [0] },\n",
    "  { \\\"unitary\\\": [ [1, 0, 0, 0], [0, 1, 0, 0], [0, 0, 0, 1], [0, 0, 1, 0] ], \\\"target\\\": [0, 1] }\n",
    "  ...\n",
    "]\n",
    "```\n",
    "\n",
    "Or, you can define unitaries in the code, and accept program with gate names instead:\n",
    "\n",
    "```\n",
    "[\n",
    "  { \\\"gate\\\": \\\"h\\\", \\\"target\\\": [0] },\n",
    "  { \\\"gate\\\": \\\"cx\\\", \\\"target\\\": [0, 1] }\n",
    "  ...\n",
    "]\n",
    "```"
   ]
  },
  {
   "cell_type": "code",
   "execution_count": 1,
   "metadata": {},
   "outputs": [],
   "source": [
    "import numpy as np\n",
    "import unittest\n",
    "from numpy.random import multinomial\n",
    "import math\n",
    "import json\n",
    "import functools"
   ]
  },
  {
   "cell_type": "markdown",
   "metadata": {},
   "source": [
    "# Helper functions"
   ]
  },
  {
   "cell_type": "code",
   "execution_count": 2,
   "metadata": {},
   "outputs": [],
   "source": [
    "def ln2(number):\n",
    "    return math.frexp(number)[1] - 1"
   ]
  },
  {
   "cell_type": "code",
   "execution_count": 3,
   "metadata": {},
   "outputs": [
    {
     "name": "stderr",
     "output_type": "stream",
     "text": [
      "...\n",
      "----------------------------------------------------------------------\n",
      "Ran 3 tests in 0.003s\n",
      "\n",
      "OK\n"
     ]
    },
    {
     "data": {
      "text/plain": [
       "<unittest.runner.TextTestResult run=3 errors=0 failures=0>"
      ]
     },
     "execution_count": 3,
     "metadata": {},
     "output_type": "execute_result"
    }
   ],
   "source": [
    "class TestHelpers(unittest.TestCase):\n",
    "\n",
    "    def test_ln2_2(self):\n",
    "        self.assertEqual(ln2(2), 1)\n",
    "\n",
    "    def test_ln2_8(self):\n",
    "        self.assertEqual(ln2(8), 3)\n",
    "    def test_ln_2(self):\n",
    "        self.assertEqual(ln2(256), 8)\n",
    "\n",
    "suite = unittest.TestLoader().loadTestsFromTestCase(TestHelpers)\n",
    "unittest.TextTestRunner().run(suite)"
   ]
  },
  {
   "cell_type": "markdown",
   "metadata": {},
   "source": [
    "# Get ground state [DONE]"
   ]
  },
  {
   "cell_type": "code",
   "execution_count": 4,
   "metadata": {},
   "outputs": [],
   "source": [
    "def get_ground_state(num_qubits):\n",
    "    # return vector of size 2**num_qubits with all zeroes except first element which is 1\n",
    "\n",
    "#     assert num_qubits > 0\n",
    "    \n",
    "    ground_state = a = np.zeros(2**num_qubits)\n",
    "    ground_state[0] = 1\n",
    "    return ground_state"
   ]
  },
  {
   "cell_type": "code",
   "execution_count": 5,
   "metadata": {
    "slideshow": {
     "slide_type": "subslide"
    }
   },
   "outputs": [
    {
     "name": "stderr",
     "output_type": "stream",
     "text": [
      "..\n",
      "----------------------------------------------------------------------\n",
      "Ran 2 tests in 0.002s\n",
      "\n",
      "OK\n"
     ]
    },
    {
     "data": {
      "text/plain": [
       "<unittest.runner.TextTestResult run=2 errors=0 failures=0>"
      ]
     },
     "execution_count": 5,
     "metadata": {},
     "output_type": "execute_result"
    }
   ],
   "source": [
    "class TestGetGroundState(unittest.TestCase):\n",
    "\n",
    "#     def test_invalid_input(self):\n",
    "#         self.assertRaises(get_ground_state(0), AssertionError)\n",
    "\n",
    "    def test_single_qubit(self):\n",
    "        self.assertSequenceEqual(\n",
    "            list(get_ground_state(1)),\n",
    "            list(np.array([1, 0]))\n",
    "        )\n",
    "\n",
    "    def test_multi_qubit(self):\n",
    "        self.assertSequenceEqual(\n",
    "            list(get_ground_state(3)),\n",
    "            list(np.array([1, 0, 0, 0, 0 ,0, 0, 0]))\n",
    "        )\n",
    "\n",
    "suite = unittest.TestLoader().loadTestsFromTestCase(TestGetGroundState)\n",
    "unittest.TextTestRunner().run(suite)"
   ]
  },
  {
   "cell_type": "markdown",
   "metadata": {},
   "source": [
    "# Get Operator [not started]"
   ]
  },
  {
   "cell_type": "code",
   "execution_count": 28,
   "metadata": {},
   "outputs": [],
   "source": [
    "# Define 2x2 Identity\n",
    "I = np.identity(2)\n",
    "\n",
    "# Define X gate\n",
    "X = np.array([\n",
    "[0, 1],\n",
    "[1, 0]\n",
    "])\n",
    "\n",
    "# Define Y gate\n",
    "Y = np.array([\n",
    "[0, 0-1j],\n",
    "[0+1j, 0]\n",
    "])\n",
    "\n",
    "# Define Z gate\n",
    "Z = np.array([\n",
    "[1, 0],\n",
    "[0, -1]\n",
    "])\n",
    "\n",
    "# Define H gate\n",
    "H = np.array([\n",
    "[1, 1],\n",
    "[1, -1]\n",
    "])/math.sqrt(2)\n",
    "\n",
    "# Define parametric gate u3\n",
    "U3 = np.array([\n",
    "[\"cos(theta/2)\", \"-exp(i * lambda) * sin(theta / 2)\"],\n",
    "[\"exp(i * phi) * sin(theta / 2)\", \"exp(i * lambda + i * phi) * cos(theta / 2)\"]    \n",
    "])\n",
    "\n",
    "# Define projection operator |0><0|\n",
    "P0x0 = np.array([\n",
    "[1, 0],\n",
    "[0, 0]\n",
    "])\n",
    "\n",
    "# Define projection operator |1><1|\n",
    "P1x1 = np.array([\n",
    "[0, 0],\n",
    "[0, 1]\n",
    "])\n",
    "\n",
    "KNOWN_GATES = {\n",
    "    \"I\": I,\n",
    "    \"X\": X,\n",
    "    \"Y\": Y,\n",
    "    \"Z\": Z,\n",
    "    \"H\": H,\n",
    "    \"U3\": U3,\n",
    "    \"P0\": P0x0,\n",
    "    \"P1\": P1x1\n",
    "}"
   ]
  },
  {
   "cell_type": "code",
   "execution_count": 31,
   "metadata": {},
   "outputs": [],
   "source": [
    "def get_operator(total_qubits, gate_unitary, target_qubits, params = None):\n",
    "    # return unitary operator of size 2**n x 2**n for given gate and target qubits\n",
    "    \n",
    "    def get_gate_from_name(name):\n",
    "        upper_case_name = name.upper()\n",
    "        if upper_case_name[0] == 'C':\n",
    "            return KNOWN_GATES[upper_case_name[1:]]\n",
    "        return KNOWN_GATES[upper_case_name]\n",
    "    \n",
    "    def multiply_gates(gate_unitary, target_qubits, projector=None, control_qubit=None):\n",
    "        gates = [I] * total_qubits\n",
    "        for target_qubit in target_qubits:\n",
    "            gates[target_qubit] = gate_unitary\n",
    "        if projector is not None and control_qubit is not None:\n",
    "            gates[control_qubit] = projector\n",
    "        return functools.reduce(lambda a,b : np.kron(a, b), gates)\n",
    "    \n",
    "    is_a_controlled_gate = gate_unitary.upper()[0] == 'C'\n",
    "    gate = get_gate_from_name(gate_unitary)\n",
    "    \n",
    "    if is_a_controlled_gate:\n",
    "        result\\\n",
    "        = multiply_gates(I, [target_qubits[1]], P0x0, target_qubits[0])\\\n",
    "        + multiply_gates(gate, [target_qubits[1]], P1x1, target_qubits[0])\n",
    "#         print('controlled-gate:\\n', np.array2string(result))\n",
    "        return result\n",
    "    else:\n",
    "        result = multiply_gates(gate, target_qubits)\n",
    "#         print('gate:\\n', np.array2string(result))\n",
    "        return result\n",
    "    \n",
    "    return gate_unitary"
   ]
  },
  {
   "cell_type": "code",
   "execution_count": 34,
   "metadata": {},
   "outputs": [
    {
     "name": "stderr",
     "output_type": "stream",
     "text": [
      "......\n",
      "----------------------------------------------------------------------\n",
      "Ran 6 tests in 0.009s\n",
      "\n",
      "OK\n"
     ]
    },
    {
     "data": {
      "text/plain": [
       "<unittest.runner.TextTestResult run=6 errors=0 failures=0>"
      ]
     },
     "execution_count": 34,
     "metadata": {},
     "output_type": "execute_result"
    }
   ],
   "source": [
    "class TestGetOperator(unittest.TestCase):\n",
    "\n",
    "    def test_n_is_1_X_on_0(self):\n",
    "        np.testing.assert_array_equal(\n",
    "            get_operator(1, \"X\", [0]),\n",
    "            np.array([\n",
    "                [0,1],\n",
    "                [1,0]\n",
    "            ])\n",
    "        )\n",
    "\n",
    "    def test_n_is_2_X_on_0(self):\n",
    "        np.testing.assert_array_equal(\n",
    "            get_operator(2, \"X\", [0]),\n",
    "            np.array([\n",
    "                [0,0,1,0],\n",
    "                [0,0,0,1],\n",
    "                [1,0,0,0],\n",
    "                [0,1,0,0]\n",
    "            ])\n",
    "        )\n",
    "    \n",
    "    def test_n_is_2_X_on_1(self):\n",
    "        np.testing.assert_array_equal(\n",
    "            get_operator(2, \"X\", [1]),\n",
    "            np.array([\n",
    "                [0,1,0,0],\n",
    "                [1,0,0,0],\n",
    "                [0,0,0,1],\n",
    "                [0,0,1,0]\n",
    "            ])\n",
    "        )\n",
    "\n",
    "    def test_n_is_2_H_on_0_and_1(self):\n",
    "        np.testing.assert_allclose(\n",
    "            get_operator(2, \"H\", [0,1]),\n",
    "            np.array([\n",
    "                [1,1,1,1],\n",
    "                [1,-1,1,-1],\n",
    "                [1,1,-1,-1],\n",
    "                [1,-1,-1,1]\n",
    "            ])/2\n",
    "            , rtol=1e-5, atol=0\n",
    "        )\n",
    "\n",
    "    def test_n_is_3_X_on_2(self):\n",
    "        np.testing.assert_array_equal(\n",
    "            get_operator(3, \"X\", [2]),\n",
    "            np.array([\n",
    "                [0, 1, 0, 0, 0, 0, 0, 0,],\n",
    "                [1, 0, 0, 0, 0, 0, 0, 0,],\n",
    "                [0, 0, 0, 1, 0, 0, 0, 0,],\n",
    "                [0, 0, 1, 0, 0, 0, 0, 0,],\n",
    "                [0, 0, 0, 0, 0, 1, 0, 0,],\n",
    "                [0, 0, 0, 0, 1, 0, 0, 0,],\n",
    "                [0, 0, 0, 0, 0, 0, 0, 1,],\n",
    "                [0, 0, 0, 0, 0, 0, 1, 0,]\n",
    "            ])\n",
    "        )\n",
    "\n",
    "    def test_n_is_3_CNOT_on_0_and_2(self):\n",
    "        np.testing.assert_array_equal(\n",
    "            get_operator(3, \"CX\", [0,2]),\n",
    "            np.array([\n",
    "                [1, 0, 0, 0, 0, 0, 0, 0],\n",
    "                [0, 1, 0, 0, 0, 0, 0, 0],\n",
    "                [0, 0, 1, 0, 0, 0, 0, 0],\n",
    "                [0, 0, 0, 1, 0, 0, 0, 0],\n",
    "                [0, 0, 0, 0, 0, 1, 0, 0],\n",
    "                [0, 0, 0, 0, 1, 0, 0, 0],\n",
    "                [0, 0, 0, 0, 0, 0, 0, 1],\n",
    "                [0, 0, 0, 0, 0, 0, 1, 0]\n",
    "            ])\n",
    "        )\n",
    "        \n",
    "suite = unittest.TestLoader().loadTestsFromTestCase(TestGetOperator)\n",
    "unittest.TextTestRunner().run(suite)"
   ]
  },
  {
   "cell_type": "markdown",
   "metadata": {},
   "source": [
    "# Run Program [not started]\n",
    "\n",
    "\n",
    "In order to implement simulator, it is best if you have function which returns operator for any unitary targeting any qubit(s) for any circuit size, something like:\n",
    "\n",
    "```get_operator(total_qubits, gate_unitary, target_qubits)```\n",
    "\n",
    "But this is not trivial so it is enough if you can implement it for any 1-qubit gates and CNOT only.\n",
    "\n",
    "If you are still enthusiastic and you wish to implement universal operator function then please refer to:\n",
    "\n",
    "- [qosf-simulator-task-additional-info.pdf|https://github.com/quantastica/qosf-mentorship/blob/master/qosf-simulator-task-additional-info.pdf]\n",
    "\n",
    "- Book Nielsen, Michael A.; Chuang, Isaac (2000). Quantum Computation and Quantum Information, 10th Anniversary Edition, Section 8.2.3, Operator-Sum Representation\n",
    "\n",
    "\n"
   ]
  },
  {
   "cell_type": "code",
   "execution_count": 21,
   "metadata": {},
   "outputs": [],
   "source": [
    "def run_program(initial_state, program):\n",
    "    # read program, and for each gate:\n",
    "    #   - calculate matrix operator\n",
    "    #   - multiply state with operator\n",
    "    # return final state\n",
    "\n",
    "    def get_gate_from_name(name):\n",
    "        upper_case_name = name.upper()\n",
    "        if upper_case_name[0] == 'C':\n",
    "            return KNOWN_GATES[upper_case_name[1:]]\n",
    "        return KNOWN_GATES[upper_case_name]\n",
    "    \n",
    "    n = ln2(len(initial_state))\n",
    "    state = initial_state\n",
    "#     print('initial state: ', state)\n",
    "\n",
    "    for gate_operation in program:\n",
    "        gate = gate_operation[\"gate\"]\n",
    "#         print('gate: ', gate)\n",
    "        target = gate_operation[\"target\"]\n",
    "#         print('target: ', target)\n",
    "        matrix_operator = get_operator(n, gate, target)\n",
    "#         print('matrix: ', matrix_operator)\n",
    "        \n",
    "        state = np.dot(matrix_operator, state)\n",
    "#         print('state: ', state)\n",
    "\n",
    "        \n",
    "#     print('final state: ', state)\n",
    "    return state"
   ]
  },
  {
   "cell_type": "code",
   "execution_count": 42,
   "metadata": {},
   "outputs": [
    {
     "name": "stderr",
     "output_type": "stream",
     "text": [
      ".E\n",
      "======================================================================\n",
      "ERROR: test_run_program_uniform_superposition (__main__.TestRunProgram)\n",
      "----------------------------------------------------------------------\n",
      "Traceback (most recent call last):\n",
      "  File \"<ipython-input-42-0dd96e5e1f0f>\", line 30, in test_run_program_uniform_superposition\n",
      "    run_program(\n",
      "  File \"<ipython-input-21-cc34e72c112e>\", line 25, in run_program\n",
      "    state = np.dot(matrix_operator, state)\n",
      "  File \"<__array_function__ internals>\", line 5, in dot\n",
      "ValueError: data type must provide an itemsize\n",
      "\n",
      "----------------------------------------------------------------------\n",
      "Ran 2 tests in 0.134s\n",
      "\n",
      "FAILED (errors=1)\n"
     ]
    },
    {
     "data": {
      "text/plain": [
       "<unittest.runner.TextTestResult run=2 errors=1 failures=0>"
      ]
     },
     "execution_count": 42,
     "metadata": {},
     "output_type": "execute_result"
    }
   ],
   "source": [
    "class TestRunProgram(unittest.TestCase):\n",
    "\n",
    "    def test_run_program_bell_00(self):\n",
    "        np.testing.assert_allclose(\n",
    "            run_program(\n",
    "                np.array([1, 0, 0, 0]),\n",
    "                [\n",
    "                    { \"gate\": \"h\", \"target\": [0] },\n",
    "                    { \"gate\": \"cx\", \"target\": [0, 1] }\n",
    "                ]\n",
    "            ),\n",
    "            np.array([0.70710678, 0, 0, 0.70710678]),\n",
    "            rtol=1e-5, atol=0\n",
    "        )\n",
    "\n",
    "    def test_run_program_uniform_superposition(self):\n",
    "        np.testing.assert_allclose(\n",
    "            run_program(\n",
    "                np.array([1, 0, 0, 0]),\n",
    "                [\n",
    "                    { \"gate\": \"h\", \"target\": [0,1] }\n",
    "                ]\n",
    "            ),\n",
    "            [0.5]*4,\n",
    "            rtol=1e-5, atol=0\n",
    "        )\n",
    "\n",
    "    def test_run_program_uniform_superposition(self):\n",
    "        np.testing.assert_allclose(\n",
    "            run_program(\n",
    "                np.array([1, 0]),\n",
    "                [\n",
    "                    { \"gate\": \"u3\", \"params\": { \"theta\": 3.1415, \"phi\": 1.5708, \"lambda\": -3.1415 }, \"target\": [0] }\n",
    "                ]\n",
    "            ),\n",
    "            np.array([ 0+0j, 0+1j]),\n",
    "            rtol=1e-5, atol=0\n",
    "        )\n",
    "\n",
    "suite = unittest.TestLoader().loadTestsFromTestCase(TestRunProgram)\n",
    "unittest.TextTestRunner().run(suite)"
   ]
  },
  {
   "cell_type": "markdown",
   "metadata": {},
   "source": [
    "# Measure All [DONE; remove comments]"
   ]
  },
  {
   "cell_type": "code",
   "execution_count": 11,
   "metadata": {},
   "outputs": [],
   "source": [
    "def measure_all(state_vector):\n",
    "    # choose element from state_vector using weighted random and return it's index\n",
    "    def get_probability(amplitude):\n",
    "        pa = np.abs(amplitude)**2\n",
    "        return pa\n",
    "    \n",
    "    probabilities = np.fromiter((get_probability(amplitude) for amplitude in state_vector), state_vector.dtype) \n",
    "#     print('prob', probabilities)\n",
    "    \n",
    "    result_array = multinomial(1, probabilities)\n",
    "#     print('results', result_array)    \n",
    "    indices = np.where(result_array == 1)\n",
    "#     print('indices: ', indices)    \n",
    "    index = indices[0][0]\n",
    "#     print('index: ', index)\n",
    "    \n",
    "    bin_index = bin(index)[2:].zfill(ln2(len(state_vector)))\n",
    "#     print('bin index: ', bin_index)\n",
    "    \n",
    "    return bin_index"
   ]
  },
  {
   "cell_type": "code",
   "execution_count": 12,
   "metadata": {},
   "outputs": [
    {
     "name": "stderr",
     "output_type": "stream",
     "text": [
      ".\n",
      "----------------------------------------------------------------------\n",
      "Ran 1 test in 0.002s\n",
      "\n",
      "OK\n"
     ]
    },
    {
     "data": {
      "text/plain": [
       "<unittest.runner.TextTestResult run=1 errors=0 failures=0>"
      ]
     },
     "execution_count": 12,
     "metadata": {},
     "output_type": "execute_result"
    }
   ],
   "source": [
    "class TestMeasureAll(unittest.TestCase):\n",
    "\n",
    "    def test_measure_bell_00(self):\n",
    "        actualResult = measure_all(np.array([0.70710678, 0, 0, -0.70710678]))\n",
    "        self.assertTrue(\n",
    "           (actualResult == '00') or (actualResult == '11')\n",
    "        )\n",
    "\n",
    "suite = unittest.TestLoader().loadTestsFromTestCase(TestMeasureAll)\n",
    "unittest.TextTestRunner().run(suite)"
   ]
  },
  {
   "cell_type": "markdown",
   "metadata": {},
   "source": [
    "# Get Counts [remove comments + fix test]"
   ]
  },
  {
   "cell_type": "code",
   "execution_count": 13,
   "metadata": {},
   "outputs": [],
   "source": [
    "def get_counts(state_vector, num_shots):\n",
    "    # simply execute measure_all in a loop num_shots times and\n",
    "    # return object with statistics in following form:\n",
    "    #   {\n",
    "    #      element_index: number_of_ocurrences,\n",
    "    #      element_index: number_of_ocurrences,\n",
    "    #      element_index: number_of_ocurrences,\n",
    "    #      ...\n",
    "    #   }\n",
    "    # (only for elements which occoured - returned from measure_all)\n",
    "\n",
    "    counts = {} \n",
    "    # or listofzeros = [0] * len(state_vector)\n",
    "    for x in range(num_shots):\n",
    "        index = measure_all(state_vector)\n",
    "        counts[index] = counts.get(index, 0) + 1\n",
    "        # counts[measure_all(state_vector)] += 1 \n",
    "        \n",
    "    sorted_counts = json.dumps(counts, sort_keys=True, indent=4)\n",
    "#     print(sorted_counts)\n",
    "\n",
    "    # time considerarions of dic vs list\n",
    "    # list needs extra pass to covert index to binary\n",
    "    # dic can take binary string from measure all, but does this affect performance of get_counts\n",
    "    # dic->json goves output in required format\n",
    "    \n",
    "    return sorted_counts"
   ]
  },
  {
   "cell_type": "code",
   "execution_count": 14,
   "metadata": {},
   "outputs": [
    {
     "name": "stderr",
     "output_type": "stream",
     "text": [
      "F\n",
      "======================================================================\n",
      "FAIL: test_run_1000_shots (__main__.TestGetCounts)\n",
      "----------------------------------------------------------------------\n",
      "Traceback (most recent call last):\n",
      "  File \"<ipython-input-14-84dd1cb2a53b>\", line 4, in test_run_1000_shots\n",
      "    self.assertEqual(\n",
      "AssertionError: '{\\n    \"00\": 495,\\n    \"11\": 505\\n}' != 0\n",
      "\n",
      "----------------------------------------------------------------------\n",
      "Ran 1 test in 0.107s\n",
      "\n",
      "FAILED (failures=1)\n"
     ]
    },
    {
     "data": {
      "text/plain": [
       "<unittest.runner.TextTestResult run=1 errors=0 failures=1>"
      ]
     },
     "execution_count": 14,
     "metadata": {},
     "output_type": "execute_result"
    }
   ],
   "source": [
    "class TestGetCounts(unittest.TestCase):\n",
    "\n",
    "    def test_run_1000_shots(self):\n",
    "        self.assertEqual(\n",
    "            get_counts(np.array([0.70710678, 0, 0, -0.70710678]), 1000),\n",
    "            0\n",
    "        )\n",
    "\n",
    "suite = unittest.TestLoader().loadTestsFromTestCase(TestGetCounts)\n",
    "unittest.TextTestRunner().run(suite)"
   ]
  },
  {
   "cell_type": "markdown",
   "metadata": {},
   "source": [
    "# End-to-end example"
   ]
  },
  {
   "cell_type": "code",
   "execution_count": 26,
   "metadata": {},
   "outputs": [
    {
     "name": "stdout",
     "output_type": "stream",
     "text": [
      "{\n",
      "    \"00\": 489,\n",
      "    \"11\": 511\n",
      "}\n"
     ]
    }
   ],
   "source": [
    "# Define program:\n",
    "\n",
    "my_circuit = [\n",
    "{ \"gate\": \"h\", \"target\": [0] }, \n",
    "{ \"gate\": \"cx\", \"target\": [0, 1] }\n",
    "]\n",
    "\n",
    "\n",
    "# Create \"quantum computer\" with 2 qubits (this is actually just a vector :) )\n",
    "\n",
    "my_qpu = get_ground_state(2)\n",
    "\n",
    "\n",
    "# Run circuit\n",
    "\n",
    "final_state = run_program(my_qpu, my_circuit)\n",
    "\n",
    "\n",
    "# Read results\n",
    "\n",
    "counts = get_counts(final_state, 1000)\n",
    "\n",
    "print(counts)\n",
    "\n",
    "# Should print something like:\n",
    "# {\n",
    "#   \"00\": 502,\n",
    "#   \"11\": 498\n",
    "# }\n",
    "\n",
    "# Voila!"
   ]
  },
  {
   "cell_type": "markdown",
   "metadata": {},
   "source": [
    "# Test execution"
   ]
  },
  {
   "cell_type": "code",
   "execution_count": 35,
   "metadata": {},
   "outputs": [
    {
     "name": "stderr",
     "output_type": "stream",
     "text": [
      "======================================================================\n",
      "FAIL: test_run_1000_shots (__main__.TestGetCounts)\n",
      "----------------------------------------------------------------------\n",
      "Traceback (most recent call last):\n",
      "  File \"<ipython-input-14-84dd1cb2a53b>\", line 4, in test_run_1000_shots\n",
      "    self.assertEqual(\n",
      "AssertionError: '{\\n    \"00\": 505,\\n    \"11\": 495\\n}' != 0\n",
      "\n",
      "----------------------------------------------------------------------\n",
      "Ran 15 tests in 0.118s\n",
      "\n",
      "FAILED (failures=1)\n"
     ]
    },
    {
     "data": {
      "text/plain": [
       "<unittest.main.TestProgram at 0x7f3909ad39d0>"
      ]
     },
     "execution_count": 35,
     "metadata": {},
     "output_type": "execute_result"
    }
   ],
   "source": [
    "unittest.main(argv=[''], verbosity=0, exit=False)"
   ]
  },
  {
   "cell_type": "code",
   "execution_count": null,
   "metadata": {},
   "outputs": [],
   "source": []
  },
  {
   "cell_type": "code",
   "execution_count": null,
   "metadata": {},
   "outputs": [],
   "source": []
  }
 ],
 "metadata": {
  "kernelspec": {
   "display_name": "Python 3",
   "language": "python",
   "name": "python3"
  },
  "language_info": {
   "codemirror_mode": {
    "name": "ipython",
    "version": 3
   },
   "file_extension": ".py",
   "mimetype": "text/x-python",
   "name": "python",
   "nbconvert_exporter": "python",
   "pygments_lexer": "ipython3",
   "version": "3.8.6"
  }
 },
 "nbformat": 4,
 "nbformat_minor": 4
}
