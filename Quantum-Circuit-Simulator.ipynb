{
 "cells": [
  {
   "cell_type": "markdown",
   "metadata": {},
   "source": [
    "## Requirements\n",
    "It is expected that simulator can perform following:\n",
    "\n",
    "- initialize state\n",
    "- read program, and for each gate:\n",
    "    - calculate matrix operator\n",
    "    - apply operator (modify state)\n",
    "\n",
    "- perform multi-shot measurement of all qubits using weighted random technique\n",
    "\n",
    "It is up to you how you will organize code, but this is our suggestion:\n",
    "\n",
    "### Input format (quantum program)\n",
    "\n",
    "It is enough if simulator takes program in following format:\n",
    "\n",
    "```\n",
    "[\n",
    "  { \\\"unitary\\\": [[0.70710678, 0.70710678], [0.70710678, -0.70710678]], \\\"target\\\": [0] },\n",
    "  { \\\"unitary\\\": [ [1, 0, 0, 0], [0, 1, 0, 0], [0, 0, 0, 1], [0, 0, 1, 0] ], \\\"target\\\": [0, 1] }\n",
    "  ...\n",
    "]\n",
    "```\n",
    "\n",
    "Or, you can define unitaries in the code, and accept program with gate names instead:\n",
    "\n",
    "```\n",
    "[\n",
    "  { \\\"gate\\\": \\\"h\\\", \\\"target\\\": [0] },\n",
    "  { \\\"gate\\\": \\\"cx\\\", \\\"target\\\": [0, 1] }\n",
    "  ...\n",
    "]\n",
    "```"
   ]
  },
  {
   "cell_type": "code",
   "execution_count": 29,
   "metadata": {},
   "outputs": [],
   "source": [
    "import numpy as np\n",
    "import unittest\n",
    "from numpy.random import multinomial\n",
    "import math\n",
    "import json\n",
    "import functools"
   ]
  },
  {
   "cell_type": "markdown",
   "metadata": {},
   "source": [
    "# Get ground state [DONE]"
   ]
  },
  {
   "cell_type": "code",
   "execution_count": null,
   "metadata": {},
   "outputs": [],
   "source": [
    "def get_ground_state(num_qubits):\n",
    "    # return vector of size 2**num_qubits with all zeroes except first element which is 1\n",
    "\n",
    "#     assert num_qubits > 0\n",
    "    \n",
    "    ground_state = a = np.zeros(2**num_qubits)\n",
    "    ground_state[0] = 1\n",
    "    return ground_state"
   ]
  },
  {
   "cell_type": "code",
   "execution_count": null,
   "metadata": {
    "slideshow": {
     "slide_type": "subslide"
    }
   },
   "outputs": [],
   "source": [
    "class TestGetGroundState(unittest.TestCase):\n",
    "\n",
    "#     def test_invalid_input(self):\n",
    "#         self.assertRaises(get_ground_state(0), AssertionError)\n",
    "\n",
    "    def test_single_qubit(self):\n",
    "        self.assertSequenceEqual(\n",
    "            list(get_ground_state(1)),\n",
    "            list(np.array([1, 0]))\n",
    "        )\n",
    "\n",
    "    def test_multi_qubit(self):\n",
    "        self.assertSequenceEqual(\n",
    "            list(get_ground_state(3)),\n",
    "            list(np.array([1, 0, 0, 0, 0 ,0, 0, 0]))\n",
    "        )\n",
    "\n",
    "suite = unittest.TestLoader().loadTestsFromTestCase(TestGetGroundState)\n",
    "unittest.TextTestRunner().run(suite)"
   ]
  },
  {
   "cell_type": "markdown",
   "metadata": {},
   "source": [
    "# Get Operator [not started]"
   ]
  },
  {
   "cell_type": "code",
   "execution_count": 4,
   "metadata": {},
   "outputs": [],
   "source": [
    "# Define 2x2 Identity\n",
    "I = np.identity(2)\n",
    "\n",
    "# Define X gate\n",
    "X = np.array([\n",
    "[0, 1],\n",
    "[1, 0]\n",
    "])\n",
    "\n",
    "# Define Y gate\n",
    "Y = np.array([\n",
    "[0, 0-1j],\n",
    "[0+1j, 0]\n",
    "])\n",
    "\n",
    "# Define Z gate\n",
    "Z = np.array([\n",
    "[1, 0],\n",
    "[0, -1]\n",
    "])\n",
    "\n",
    "\n",
    "# Define projection operator |0><0|\n",
    "P0x0 = np.array([\n",
    "[1, 0],\n",
    "[0, 0]\n",
    "])\n",
    "\n",
    "# Define projection operator |1><1|\n",
    "P1x1 = np.array([\n",
    "[0, 0],\n",
    "[0, 1]\n",
    "])\n",
    "\n",
    "KNOWN_GATES = [I, X, Y, Z, P0x0, P1x1]"
   ]
  },
  {
   "cell_type": "code",
   "execution_count": 57,
   "metadata": {},
   "outputs": [],
   "source": [
    "def get_operator(total_qubits, gate_unitary, target_qubits):\n",
    "    # return unitary operator of size 2**n x 2**n for given gate and target qubits\n",
    "    \n",
    "#     def product(position, product, gate_unitary, target_qubits, total_qubits):\n",
    "#         if position = total_qubits:\n",
    "#             return product\n",
    "        \n",
    "#         if position = target_qubits[0]:\n",
    "#             return product(position+1, )\n",
    "#         return gate_unitary\n",
    "    \n",
    "#     np.kron(I, gate_unitary)\n",
    "    ###########################\n",
    "    \n",
    "    def multiply_gates(gate_unitary, target_qubit, projector=None, control_qubit=None):\n",
    "        gates = [I] * total_qubits\n",
    "        gates[target_qubit] = gate_unitary\n",
    "        if projector is not None and control_qubit is not None:\n",
    "            gates[control_qubit] = projector\n",
    "        return functools.reduce(lambda a,b : np.kron(a, b), gates)\n",
    "    \n",
    "    if len(target_qubits) == 1:\n",
    "#         gates = [I] * total_qubits\n",
    "#         target_qubit = target_qubits[0] \n",
    "#         gates[target_qubit] = gate_unitary\n",
    "#         result = functools.reduce(lambda a,b : np.kron(a, b), gates)\n",
    "#         print('gate:\\n', np.array2string(result))\n",
    "        result = multiply_gates(gate_unitary, target_qubits[0])\n",
    "        print('gate:\\n', np.array2string(result))\n",
    "        return result\n",
    "    else:\n",
    "        result\\\n",
    "        = multiply_gates(gate_unitary, target_qubits[1], P0x0, target_qubits[0])\\\n",
    "        + multiply_gates(gate_unitary, target_qubits[1], P1x1, target_qubits[0])\n",
    "        print('controlled-gate:\\n', np.array2string(result))\n",
    "        return result\n",
    "    \n",
    "    return gate_unitary"
   ]
  },
  {
   "cell_type": "code",
   "execution_count": 56,
   "metadata": {},
   "outputs": [
    {
     "name": "stderr",
     "output_type": "stream",
     "text": [
      "...."
     ]
    },
    {
     "name": "stdout",
     "output_type": "stream",
     "text": [
      "gate:\n",
      " [[0 1]\n",
      " [1 0]]\n",
      "gate:\n",
      " [[0. 0. 1. 0.]\n",
      " [0. 0. 0. 1.]\n",
      " [1. 0. 0. 0.]\n",
      " [0. 1. 0. 0.]]\n",
      "gate:\n",
      " [[0. 1. 0. 0.]\n",
      " [1. 0. 0. 0.]\n",
      " [0. 0. 0. 1.]\n",
      " [0. 0. 1. 0.]]\n",
      "gate:\n",
      " [[0. 1. 0. 0. 0. 0. 0. 0.]\n",
      " [1. 0. 0. 0. 0. 0. 0. 0.]\n",
      " [0. 0. 0. 1. 0. 0. 0. 0.]\n",
      " [0. 0. 1. 0. 0. 0. 0. 0.]\n",
      " [0. 0. 0. 0. 0. 1. 0. 0.]\n",
      " [0. 0. 0. 0. 1. 0. 0. 0.]\n",
      " [0. 0. 0. 0. 0. 0. 0. 1.]\n",
      " [0. 0. 0. 0. 0. 0. 1. 0.]]\n"
     ]
    },
    {
     "name": "stderr",
     "output_type": "stream",
     "text": [
      "\n",
      "----------------------------------------------------------------------\n",
      "Ran 4 tests in 0.006s\n",
      "\n",
      "OK\n"
     ]
    },
    {
     "data": {
      "text/plain": [
       "<unittest.runner.TextTestResult run=4 errors=0 failures=0>"
      ]
     },
     "execution_count": 56,
     "metadata": {},
     "output_type": "execute_result"
    }
   ],
   "source": [
    "class TestGetOperator(unittest.TestCase):\n",
    "\n",
    "    def test_n_is_1_X_on_0(self):\n",
    "        np.testing.assert_array_equal(\n",
    "            get_operator(1, X, [0]),\n",
    "            np.array([\n",
    "                [0,1],\n",
    "                [1,0]\n",
    "            ])\n",
    "        )\n",
    "\n",
    "    def test_n_is_2_X_on_0(self):\n",
    "        np.testing.assert_array_equal(\n",
    "            get_operator(2, X, [0]),\n",
    "            np.array([\n",
    "                [0,0,1,0],\n",
    "                [0,0,0,1],\n",
    "                [1,0,0,0],\n",
    "                [0,1,0,0]\n",
    "            ])\n",
    "        )\n",
    "    \n",
    "    def test_n_is_2_X_on_1(self):\n",
    "        np.testing.assert_array_equal(\n",
    "            get_operator(2, X, [1]),\n",
    "            np.array([\n",
    "                [0,1,0,0],\n",
    "                [1,0,0,0],\n",
    "                [0,0,0,1],\n",
    "                [0,0,1,0]\n",
    "            ])\n",
    "        )\n",
    "\n",
    "    def test_n_is_3_X_on_2(self):\n",
    "        np.testing.assert_array_equal(\n",
    "            get_operator(3, X, [2]),\n",
    "            np.array([\n",
    "                [0, 1, 0, 0, 0, 0, 0, 0,],\n",
    "                [1, 0, 0, 0, 0, 0, 0, 0,],\n",
    "                [0, 0, 0, 1, 0, 0, 0, 0,],\n",
    "                [0, 0, 1, 0, 0, 0, 0, 0,],\n",
    "                [0, 0, 0, 0, 0, 1, 0, 0,],\n",
    "                [0, 0, 0, 0, 1, 0, 0, 0,],\n",
    "                [0, 0, 0, 0, 0, 0, 0, 1,],\n",
    "                [0, 0, 0, 0, 0, 0, 1, 0,]\n",
    "            ])\n",
    "        )\n",
    "\n",
    "suite = unittest.TestLoader().loadTestsFromTestCase(TestGetOperator)\n",
    "unittest.TextTestRunner().run(suite)"
   ]
  },
  {
   "cell_type": "markdown",
   "metadata": {},
   "source": [
    "# Run Program [not started]\n",
    "\n",
    "\n",
    "In order to implement simulator, it is best if you have function which returns operator for any unitary targeting any qubit(s) for any circuit size, something like:\n",
    "\n",
    "```get_operator(total_qubits, gate_unitary, target_qubits)```\n",
    "\n",
    "But this is not trivial so it is enough if you can implement it for any 1-qubit gates and CNOT only.\n",
    "\n",
    "If you are still enthusiastic and you wish to implement universal operator function then please refer to:\n",
    "\n",
    "- [qosf-simulator-task-additional-info.pdf|https://github.com/quantastica/qosf-mentorship/blob/master/qosf-simulator-task-additional-info.pdf]\n",
    "\n",
    "- Book Nielsen, Michael A.; Chuang, Isaac (2000). Quantum Computation and Quantum Information, 10th Anniversary Edition, Section 8.2.3, Operator-Sum Representation\n",
    "\n",
    "\n"
   ]
  },
  {
   "cell_type": "code",
   "execution_count": null,
   "metadata": {},
   "outputs": [],
   "source": [
    "def run_program(initial_state, program):\n",
    "    # read program, and for each gate:\n",
    "    #   - calculate matrix operator\n",
    "    #   - multiply state with operator\n",
    "    # return final state\n",
    "    return"
   ]
  },
  {
   "cell_type": "markdown",
   "metadata": {},
   "source": [
    "# Measure All [DONE; remove comments]"
   ]
  },
  {
   "cell_type": "code",
   "execution_count": null,
   "metadata": {},
   "outputs": [],
   "source": [
    "def measure_all(state_vector):\n",
    "    # choose element from state_vector using weighted random and return it's index\n",
    "    def get_probability(amplitude):\n",
    "        return np.abs(amplitude)**2\n",
    "    \n",
    "    probabilities = np.fromiter((get_probability(amplitude) for amplitude in state_vector), state_vector.dtype) \n",
    "#     print('prob', probabilities)\n",
    "    \n",
    "    result_array = multinomial(1, probabilities)\n",
    "#     print('results', result_array)    \n",
    "    indices = np.where(result_array == 1)\n",
    "#     print('indices: ', indices)    \n",
    "    index = indices[0][0]\n",
    "#     print('index: ', index)\n",
    "    \n",
    "    bin_index = bin(index)[2:].zfill(math.frexp((len(state_vector)))[1] - 1)\n",
    "#     print('bin index: ', bin_index)\n",
    "    \n",
    "    return bin_index"
   ]
  },
  {
   "cell_type": "code",
   "execution_count": null,
   "metadata": {},
   "outputs": [],
   "source": [
    "class TestMeasureAll(unittest.TestCase):\n",
    "\n",
    "    def test_measure_bell_00(self):\n",
    "        actualResult = measure_all(np.array([0.70710678, 0, 0, -0.70710678]))\n",
    "        self.assertTrue(\n",
    "           (actualResult == '00') or (actualResult == '11')\n",
    "        )\n",
    "\n",
    "suite = unittest.TestLoader().loadTestsFromTestCase(TestMeasureAll)\n",
    "unittest.TextTestRunner().run(suite)"
   ]
  },
  {
   "cell_type": "markdown",
   "metadata": {},
   "source": [
    "# Get Counts [remove comments + fix test]"
   ]
  },
  {
   "cell_type": "code",
   "execution_count": null,
   "metadata": {},
   "outputs": [],
   "source": [
    "def get_counts(state_vector, num_shots):\n",
    "    # simply execute measure_all in a loop num_shots times and\n",
    "    # return object with statistics in following form:\n",
    "    #   {\n",
    "    #      element_index: number_of_ocurrences,\n",
    "    #      element_index: number_of_ocurrences,\n",
    "    #      element_index: number_of_ocurrences,\n",
    "    #      ...\n",
    "    #   }\n",
    "    # (only for elements which occoured - returned from measure_all)\n",
    "\n",
    "    counts = {} \n",
    "    # or listofzeros = [0] * len(state_vector)\n",
    "    for x in range(num_shots):\n",
    "        index = measure_all(state_vector)\n",
    "        counts[index] = counts.get(index, 0) + 1\n",
    "        # counts[measure_all(state_vector)] += 1 \n",
    "        \n",
    "    sorted_counts = json.dumps(counts, sort_keys=True, indent=4)\n",
    "    print(sorted_counts)\n",
    "\n",
    "    # time considerarions of dic vs list\n",
    "    # list needs extra pass to covert index to binary\n",
    "    # dic can take binary string from measure all, but does this affect performance of get_counts\n",
    "    # dic->json goves output in required format\n",
    "    \n",
    "    return sorted_counts"
   ]
  },
  {
   "cell_type": "code",
   "execution_count": null,
   "metadata": {},
   "outputs": [],
   "source": [
    "class TestGetCounts(unittest.TestCase):\n",
    "\n",
    "    def test_run_1000_shots(self):\n",
    "        self.assertEqual(\n",
    "            get_counts(np.array([0.70710678, 0, 0, -0.70710678]), 1000),\n",
    "            0\n",
    "        )\n",
    "\n",
    "suite = unittest.TestLoader().loadTestsFromTestCase(TestGetCounts)\n",
    "unittest.TextTestRunner().run(suite)"
   ]
  },
  {
   "cell_type": "markdown",
   "metadata": {},
   "source": [
    "# Test execution"
   ]
  },
  {
   "cell_type": "code",
   "execution_count": null,
   "metadata": {},
   "outputs": [],
   "source": [
    "unittest.main(argv=[''], verbosity=0, exit=False)"
   ]
  },
  {
   "cell_type": "code",
   "execution_count": null,
   "metadata": {},
   "outputs": [],
   "source": []
  },
  {
   "cell_type": "code",
   "execution_count": null,
   "metadata": {},
   "outputs": [],
   "source": []
  }
 ],
 "metadata": {
  "kernelspec": {
   "display_name": "Python 3",
   "language": "python",
   "name": "python3"
  },
  "language_info": {
   "codemirror_mode": {
    "name": "ipython",
    "version": 3
   },
   "file_extension": ".py",
   "mimetype": "text/x-python",
   "name": "python",
   "nbconvert_exporter": "python",
   "pygments_lexer": "ipython3",
   "version": "3.8.6"
  }
 },
 "nbformat": 4,
 "nbformat_minor": 4
}
