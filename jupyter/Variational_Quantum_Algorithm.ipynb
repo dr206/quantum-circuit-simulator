{
 "cells": [
  {
   "cell_type": "markdown",
   "id": "acceptable-perry",
   "metadata": {},
   "source": [
    "# Variational Quantum Algorithm"
   ]
  },
  {
   "cell_type": "code",
   "execution_count": null,
   "id": "damaged-heavy",
   "metadata": {},
   "outputs": [],
   "source": [
    "import numpy as np\n",
    "import quantumcircuitsimulator.circuit\n",
    "\n",
    "from scipy.optimize import minimize\n",
    "from quantumcircuitsimulator.circuit import run_program\n",
    "from quantumcircuitsimulator.experiment import get_counts"
   ]
  },
  {
   "cell_type": "code",
   "execution_count": null,
   "id": "undefined-hardwood",
   "metadata": {},
   "outputs": [],
   "source": [
    "# Set the number of qubits\n",
    "n = 3"
   ]
  },
  {
   "cell_type": "code",
   "execution_count": null,
   "id": "structural-security",
   "metadata": {},
   "outputs": [],
   "source": [
    "target_distr = np.random.rand(2**n)\n",
    "target_distr /= sum(target_distr)"
   ]
  },
  {
   "cell_type": "code",
   "execution_count": null,
   "id": "activated-roots",
   "metadata": {},
   "outputs": [],
   "source": [
    "initial_state = quantumcircuitsimulator.circuit.get_ground_state(n)\n",
    "print(f'initial state = {initial_state}')\n",
    "\n",
    "program = [\n",
    "    { \"gate\": \"h\",  \"target\": [0]    },\n",
    "    { \"gate\": \"cx\", \"target\": [0, 1] },\n",
    "    { \"gate\": \"u3\", \"params\": { \"theta\": \"global_1\", \"phi\": \"global_2\", \"lambda_angle\": -3.1415 }, \"target\": [0] },\n",
    "]\n",
    "\n",
    "def objective_function(params):\n",
    "    final_state = run_program(initial_state, program, { \"global_1\": params[0], \"global_2\": params[1] })\n",
    "#    print(f'final state = {final_state}')\n",
    "\n",
    "    NUM_SHOTS = 1000\n",
    "    counts = get_counts(final_state, NUM_SHOTS)\n",
    "\n",
    "    def get_probability_distribution(counts):\n",
    "        distribution = np.zeros(2**n)\n",
    "        \n",
    "        for state_index, count in counts.items():\n",
    "            distribution[int(state_index, 2)] = count\n",
    "\n",
    "        return distribution/np.sum(distribution)\n",
    "    \n",
    "    output_distr = get_probability_distribution(counts)\n",
    "    \n",
    "    # ...calculate cost here...\n",
    "    cost = sum([np.abs(output_distr[i] - target_distr[i]) for i in range(2**n)])\n",
    "\n",
    "\n",
    "    return cost\n",
    "\n",
    "# initial values\n",
    "params = np.array([3.1415, 1.5708])\n",
    "objective_function(params)\n",
    "# minimize\n",
    "minimum = minimize(objective_function, params, method=\"Powell\", tol=1e-6)\n",
    "\n",
    "print(f'Values of (theta, phi) that minimise the state = {minimum.x}')"
   ]
  },
  {
   "cell_type": "markdown",
   "id": "committed-victoria",
   "metadata": {},
   "source": [
    "### References\n",
    "With thanks to [Qiskit-Textbook](http://community.qiskit.org/textbook) for approach to calculating the cost function."
   ]
  },
  {
   "cell_type": "code",
   "execution_count": null,
   "id": "exterior-thesis",
   "metadata": {},
   "outputs": [],
   "source": []
  }
 ],
 "metadata": {
  "kernelspec": {
   "display_name": "env",
   "language": "python",
   "name": "env"
  },
  "language_info": {
   "codemirror_mode": {
    "name": "ipython",
    "version": 3
   },
   "file_extension": ".py",
   "mimetype": "text/x-python",
   "name": "python",
   "nbconvert_exporter": "python",
   "pygments_lexer": "ipython3",
   "version": "3.8.5"
  }
 },
 "nbformat": 4,
 "nbformat_minor": 5
}
