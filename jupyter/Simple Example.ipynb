{
 "cells": [
  {
   "cell_type": "markdown",
   "id": "wrapped-restaurant",
   "metadata": {},
   "source": [
    "# Simple Example\n",
    "\n",
    "In this example, `quantumcircuitsimulator` is utilised to create a circuit that takes an unentangled initial state $|00>$ into an entangled Bell state $|\\Phi^{+}> = (|00> + |11>)/\\sqrt{2}$.\n",
    "\n",
    "This is run for 1,000 shots, and the output distribution should be approximately:\n",
    "```\n",
    "{\n",
    "    \"00\": 500\n",
    "    \"11\": 500\n",
    "}\n",
    "```"
   ]
  },
  {
   "cell_type": "code",
   "execution_count": 1,
   "id": "aerial-imagination",
   "metadata": {},
   "outputs": [],
   "source": [
    "import quantumcircuitsimulator.circuit\n",
    "import quantumcircuitsimulator.experiment"
   ]
  },
  {
   "cell_type": "code",
   "execution_count": 2,
   "id": "ignored-sending",
   "metadata": {},
   "outputs": [
    {
     "name": "stdout",
     "output_type": "stream",
     "text": [
      "Initial state =\n",
      "\t[1. 0. 0. 0.]\n",
      "Final state =\n",
      "\t[0.70710678 0.         0.         0.70710678]\n",
      "Counts_1 =\n",
      "\t{'00': 513, '11': 487}\n",
      "Counts_2 =\n",
      "\t{'00': 505, '11': 495}\n",
      "Counts_3 =\n",
      "\t{'00': 458, '11': 542}\n",
      "Counts_4 =\n",
      "\t{'00': 499, '11': 501}\n",
      "Counts_5 =\n",
      "\t{'00': 512, '11': 488}\n"
     ]
    }
   ],
   "source": [
    "# Create a circuit that take |00> state vector into \n",
    "bell_circuit = [\n",
    "    { \"gate\": \"h\",  \"target\": [0]    }, \n",
    "    { \"gate\": \"cx\", \"target\": [0, 1] }\n",
    "]\n",
    "\n",
    "\n",
    "# Initialise a state vector with 2 qubits\n",
    "initial_state = quantumcircuitsimulator.circuit.get_ground_state(2)\n",
    "print(f'Initial state =\\n\\t{initial_state}')\n",
    "\n",
    "\n",
    "# Run circuit\n",
    "final_state = quantumcircuitsimulator.circuit.run_program(initial_state, bell_circuit)\n",
    "print(f'Final state =\\n\\t{final_state}')\n",
    "\n",
    "\n",
    "# To observer the probilistic nature of measurement, let's run the same process five times.\n",
    "for i in range(5):\n",
    "\n",
    "    # Read results by measuring/collapsing the final state vector\n",
    "    counts = quantumcircuitsimulator.experiment.get_counts(final_state, 1000)\n",
    "    print(f'Counts_{i+1} =\\n\\t{counts}')\n"
   ]
  },
  {
   "cell_type": "markdown",
   "id": "careful-congress",
   "metadata": {},
   "source": [
    "We should be able to see from the above results that each run of 1,000 shots gives different measurement statistics. "
   ]
  },
  {
   "cell_type": "code",
   "execution_count": null,
   "id": "eight-academy",
   "metadata": {},
   "outputs": [],
   "source": []
  }
 ],
 "metadata": {
  "kernelspec": {
   "display_name": "env",
   "language": "python",
   "name": "env"
  },
  "language_info": {
   "codemirror_mode": {
    "name": "ipython",
    "version": 3
   },
   "file_extension": ".py",
   "mimetype": "text/x-python",
   "name": "python",
   "nbconvert_exporter": "python",
   "pygments_lexer": "ipython3",
   "version": "3.8.5"
  }
 },
 "nbformat": 4,
 "nbformat_minor": 5
}
